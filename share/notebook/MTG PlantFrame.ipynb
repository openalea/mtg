{
 "metadata": {
  "name": "",
  "signature": "sha256:4243027b25808c6f43e79c8cf8c277a88de5b8a75b5ac9717e99fffd4e35e514",
  "kernel_info": {
   "name": "python3",
   "language": "python",
   "display_name": "Python 3 (ipykernel)"
  }
 },
 "nbformat": 3,
 "nbformat_minor": 0,
 "worksheets": [
  {
   "cells": [
    {
     "cell_type": "code",
     "collapsed": false,
     "input": [
      "%gui qt\n",
      "import openalea.mtg\n",
      "from openalea.mtg.data import data_dir\n"
     ],
     "language": "python",
     "metadata": {
      "ExecuteTime": {
       "end_time": "2025-10-06T15:19:39.252572Z",
       "start_time": "2025-10-06T15:19:39.014621Z"
      }
     },
     "outputs": [],
     "prompt_number": 1
    },
    {
     "cell_type": "code",
     "collapsed": false,
     "input": [
      "from openalea.mtg import *\n",
      "g = MTG(data_dir/'noylum2.mtg')"
     ],
     "language": "python",
     "metadata": {
      "ExecuteTime": {
       "end_time": "2025-10-06T15:19:39.403621Z",
       "start_time": "2025-10-06T15:19:39.260312Z"
      }
     },
     "outputs": [],
     "prompt_number": 2
    },
    {
     "cell_type": "code",
     "collapsed": false,
     "input": [
      "dressing_data = plantframe.DressingData(DiameterUnit=10)"
     ],
     "language": "python",
     "metadata": {
      "ExecuteTime": {
       "end_time": "2025-10-06T15:19:39.412741Z",
       "start_time": "2025-10-06T15:19:39.409999Z"
      }
     },
     "outputs": [],
     "prompt_number": 3
    },
    {
     "cell_type": "code",
     "collapsed": false,
     "input": [
      "pf = plantframe.PlantFrame(g,\n",
      "                       TopDiameter='TopDia',\n",
      "                       DressingData = dressing_data)\n"
     ],
     "language": "python",
     "metadata": {
      "ExecuteTime": {
       "end_time": "2025-10-06T15:19:39.502280Z",
       "start_time": "2025-10-06T15:19:39.458268Z"
      }
     },
     "outputs": [],
     "prompt_number": 4
    },
    {
     "cell_type": "code",
     "collapsed": false,
     "input": [
      "pf.plot(gc=True)"
     ],
     "language": "python",
     "metadata": {
      "ExecuteTime": {
       "end_time": "2025-10-06T15:19:39.695390Z",
       "start_time": "2025-10-06T15:19:39.528571Z"
      }
     },
     "outputs": [],
     "prompt_number": 5
    },
    {
     "cell_type": "markdown",
     "metadata": {},
     "source": [
      "###Plotting at different scales"
     ]
    },
    {
     "cell_type": "code",
     "collapsed": false,
     "input": [
      "from openalea.mtg import io\n",
      "labels = {vid:str(vid) for vid in g}\n",
      "print('\\n'.join(io.display_tree(g, 32, labels=labels)))"
     ],
     "language": "python",
     "metadata": {
      "ExecuteTime": {
       "end_time": "2025-10-06T15:19:39.780885Z",
       "start_time": "2025-10-06T15:19:39.777257Z"
      }
     },
     "outputs": [
      {
       "output_type": "stream",
       "stream": "stdout",
       "text": [
        "+32\n",
        "\t+34\n",
        "\t\t+36\n",
        "\t\t+42\n",
        "\t\t+47\n",
        "\t+53\n",
        "\t\t+56\n",
        "\t\t+61\n",
        "\t+68\n",
        "\t\t+70\n",
        "\t\t+76\n",
        "\t\t\t+78\n",
        "\t\t+84\n",
        "\t\t+90\n",
        "\t\t+96\n",
        "\t\t\t+98\n",
        "\t\t+104\n",
        "\t\t\t+106\n",
        "\t\t\t\t+108\n",
        "\t\t\t+114\n",
        "\t\t\t+119\n",
        "\t\t\t\t+122\n",
        "\t\t+129\n",
        "\t+138\n",
        "\t\t+140\n",
        "\t\t\t+143\n",
        "\t\t+152\n",
        "\t\t\t+154\n",
        "\t\t+162\n",
        "\t+169\n",
        "\t\t+171\n",
        "\t+177\n",
        "\t\t+179\n",
        "\t\t\t+181\n",
        "\t\t\t+186\n",
        "\t\t+192\n",
        "\t\t\t+194\n",
        "\t\t\t\t+196\n",
        "\t\t\t\t+200\n",
        "\t\t\t+205\n",
        "\t\t\t\t+207\n",
        "\t\t\t\t+212\n",
        "\t\t\t\t+216\n",
        "\t\t\t+221\n",
        "\t\t\t\t+223\n",
        "\t\t\t\t+228\n",
        "\t\t\t+234\n",
        "\t\t\t\t+236\n",
        "\t\t\t\t\t+238\n",
        "\t\t\t\t+244\n",
        "\t\t\t\t\t+246\n",
        "\t\t\t\t+253\n",
        "\t\t\t+260\n",
        "\t\t\t+264\n",
        "\t\t\t\t+266\n",
        "\t\t\t+272\n",
        "\t\t\t+276\n",
        "\t\t+282\n",
        "\t\t\t+285\n",
        "\t\t\t\t+288\n",
        "\t\t\t\t+292\n",
        "\t\t\t\t\t+295\n",
        "\t\t\t\t\t+300\n",
        "\t\t\t\t\t+304\n",
        "\t\t\t\t+311\n",
        "\t\t\t\t+316\n",
        "\t\t\t+322\n",
        "\t\t\t\t+324\n",
        "\t\t\t\t\t+326\n",
        "\t\t\t\t\t\t+328\n",
        "\t\t\t\t+337\n",
        "\t\t\t\t\t+339\n",
        "\t\t\t\t\t+344\n",
        "\t\t\t\t\t+348\n",
        "\t\t\t\t+355\n",
        "\t\t\t\t\t+357\n",
        "\t\t\t\t\t+362\n",
        "\t\t\t\t+368\n",
        "\t\t\t+374\n",
        "\t\t\t\t+376\n",
        "\t\t\t\t\t+378\n",
        "\t\t\t\t\t+383\n",
        "\t\t\t\t\t\t+385\n",
        "\t\t\t\t\t\t+390\n",
        "\t\t\t\t+397\n",
        "\t\t\t\t\t+399\n",
        "\t\t\t\t\t\t+401\n",
        "\t\t\t\t\t\t+406\n",
        "\t\t\t\t\t+411\n",
        "\t\t\t\t\t\t+413\n",
        "\t\t\t\t\t\t+418\n",
        "\t+427\n",
        "\t\t+430\n",
        "\t\t\t+432\n",
        "\t\t+438\n",
        "\t\t+443\n",
        "\t\t\t+446\n",
        "\t\t+452\n",
        "\t\t\t+454\n",
        "\t\t\t+459\n",
        "\t\t\t+463\n",
        "\t\t+469\n",
        "\t+475\n",
        "\t\t+477\n",
        "\t\t\t+479\n",
        "\t\t+487\n",
        "\t+493\n",
        "\t\t+495\n",
        "\t\t\t+497\n",
        "\t\t\t\t+499\n",
        "\t\t\t\t+503\n",
        "\t\t\t+510\n",
        "\t\t\t+515\n",
        "\t\t+522\n",
        "\t\t\t+525\n",
        "\t\t\t\t+528\n",
        "\t\t\t\t+534\n",
        "\t\t\t+541\n",
        "\t\t\t+546\n",
        "\t\t+554\n",
        "\t\t\t+556\n",
        "\t\t\t\t+558\n",
        "\t\t\t\t+563\n",
        "\t\t\t\t+567\n",
        "\t\t\t+573\n",
        "\t\t\t\t+575\n",
        "\t\t\t\t\t+577\n",
        "\t\t\t\t+583\n",
        "\t\t\t+588\n",
        "\t\t\t+592\n",
        "\t\t\t\t+594\n",
        "\t\t\t+600\n",
        "\t\t\t\t+602\n",
        "\t\t\t+609\n",
        "\t\t\t+613\n",
        "\t+621\n",
        "\t+627\n",
        "\t\t+629\n",
        "\t\t+634\n",
        "\t\t+639\n",
        "\t\t+644\n",
        "\t+651\n",
        "\t+656\n",
        "\t\t+658\n",
        "\t\t\t+660\n",
        "\t\t\t\t+662\n",
        "\t\t\t+668\n",
        "\t\t\t+673\n",
        "\t\t\t\t+675\n",
        "\t\t\t+682\n",
        "\t\t\t+687\n",
        "\t\t+693\n",
        "\t\t\t+695\n",
        "\t\t\t\t+697\n",
        "\t\t\t+703\n",
        "\t\t+709\n",
        "\t\t\t+711\n",
        "\t\t\t+715\n",
        "\t\t+720\n",
        "\t\t+724\n",
        "\t\t+728\n",
        "\t\t+732\n",
        "\t\t+736\n",
        "\t+743\n",
        "\t\t+745\n",
        "\t\t+750\n",
        "\t\t\t+752\n",
        "\t\t\t+757\n",
        "\t\t+764\n",
        "\t\t\t+766\n",
        "\t\t\t\t+768\n",
        "\t\t\t\t+772\n",
        "\t\t+780\n",
        "\t\t\t+782\n",
        "\t\t+788\n",
        "\t+794\n",
        "\t\t+796\n",
        "\t+802\n",
        "\t+807\n",
        "\t\t+809\n",
        "\t\t+814\n",
        "\t\t\t+816\n",
        "\t\t+822\n",
        "\t\t\t+824\n",
        "\t\t\t\t+826\n",
        "\t\t\t+832\n",
        "\t\t+838\n",
        "\t\t\t+840\n",
        "\t\t\t+844\n",
        "\t\t\t+848\n",
        "\t\t+856\n",
        "\t\t\t+858\n",
        "\t\t+865\n",
        "\t\t+869\n",
        "\t+876\n",
        "\t\t+878\n",
        "\t+884\n",
        "\t\t+886\n",
        "\t+892\n",
        "\t\t+895\n",
        "\t\t+899\n",
        "\t+908\n",
        "\t+912\n",
        "\t+916\n"
       ]
      }
     ],
     "prompt_number": 6
    },
    {
     "cell_type": "code",
     "collapsed": false,
     "input": [
      "g.component_roots_at_scale(g.root, scale=2)\n",
      "g.children(2)"
     ],
     "language": "python",
     "metadata": {
      "ExecuteTime": {
       "end_time": "2025-10-06T15:19:39.843436Z",
       "start_time": "2025-10-06T15:19:39.837288Z"
      }
     },
     "outputs": [],
     "prompt_number": 7
    },
    {
     "cell_type": "code",
     "collapsed": false,
     "input": [
      "g.nb_vertices(scale=3)"
     ],
     "language": "python",
     "metadata": {
      "ExecuteTime": {
       "end_time": "2025-10-06T15:19:39.893581Z",
       "start_time": "2025-10-06T15:19:39.889176Z"
      }
     },
     "outputs": [],
     "prompt_number": 8
    },
    {
     "cell_type": "code",
     "collapsed": false,
     "input": [
      "set(g.class_name(v) for v in g.vertices_iter(scale=3))"
     ],
     "language": "python",
     "metadata": {
      "ExecuteTime": {
       "end_time": "2025-10-06T15:19:39.948016Z",
       "start_time": "2025-10-06T15:19:39.938004Z"
      }
     },
     "outputs": [],
     "prompt_number": 9
    },
    {
     "cell_type": "code",
     "collapsed": false,
     "input": [
      "from openalea.mtg.plantframe import turtle as turtlemod\n",
      "from openalea.plantgl.all import Viewer, PglTurtle\n",
      "import random\n",
      "\n",
      "def my_visitor(g, v, my_turtle):\n",
      "    n = g.node(v)\n",
      "    if g.edge_type(v) == '+':\n",
      "        my_turtle.down(random.random()*60.)\n",
      "    my_turtle.setId(v)\n",
      "    my_turtle.F()\n",
      "    my_turtle.rollL(n.Az1)\n",
      "        \n",
      "        \n",
      "scene = turtle.traverse_with_turtle(g, 32, gc=False, visitor=my_visitor)\n",
      "Viewer.display(scene)\n",
      "\n"
     ],
     "language": "python",
     "metadata": {
      "ExecuteTime": {
       "end_time": "2025-10-06T15:19:40.004733Z",
       "start_time": "2025-10-06T15:19:39.994779Z"
      }
     },
     "outputs": [],
     "prompt_number": 10
    },
    {
     "cell_type": "code",
     "collapsed": false,
     "input": [
      "# PlantFrame Visitor\n",
      "def points(g, v):\n",
      "    XX = g.property('XX')\n",
      "    YY = g.property('YY')\n",
      "    ZZ = g.property('ZZ')\n",
      "    \n",
      "    if v in XX and v in YY and v in ZZ:\n",
      "        return (XX[v], YY[v], ZZ[v]) \n",
      "    \n",
      "    \n",
      "def plantframe_visitor(g, v, turtle):\n",
      "    \"\"\"\n",
      "    \"\"\"\n",
      "    n = g.node(v)\n",
      "    max_scale = g.max_scale()\n",
      "    diameters = g.property('TopDia')\n",
      "    radius = diameters.get(v)\n",
      "    if radius:\n",
      "        radius = radius /20.\n",
      "    elif g.scale(v) < max_scale:\n",
      "        try:\n",
      "            vm = g.component_roots_at_scale_iter(v, scale=max_scale).next()\n",
      "            radius = diameters.get(vm, 0.)/2.\n",
      "        except:\n",
      "            radius = 0.\n",
      "\n",
      "    pt = points(g, v)\n",
      "    if not pt and g.scale(v) != max_scale:\n",
      "        try:\n",
      "            vm = g.component_roots_at_scale_iter(v, scale=max_scale).next()\n",
      "            pt = points(g, vm)\n",
      "        except: pass\n",
      "\n",
      "    if pt:\n",
      "        turtle.setId(v)\n",
      "        turtle.lineTo(pt, radius)\n",
      "    else:\n",
      "        turtle.setId(v)\n",
      "        if g.edge_type(v) == '+':\n",
      "            turtle.down()\n",
      "        turtle.F()\n",
      "        if radius:\n",
      "            turtle.setWidth(radius)\n",
      "        turtle.rollL()\n",
      "\n",
      "root_id = 35\n",
      "my_turtle = PglTurtle()\n",
      "my_turtle.move(points(g, g.parent(root_id)))\n",
      "diam = g.node(root_id).TopDia\n",
      "my_turtle.setWidth(diam/20.)\n",
      "\n",
      "\n",
      "scene = turtle.traverse_with_turtle(g, root_id, gc=False, visitor=plantframe_visitor, turtle=my_turtle)\n",
      "root_id = 3084\n",
      "my_turtle.move(points(g, g.parent(root_id)))\n",
      "diam = g.node(root_id).TopDia\n",
      "my_turtle.setWidth(diam/20.)\n",
      "scene = turtle.traverse_with_turtle(g, root_id, gc=False, visitor=plantframe_visitor, turtle=my_turtle)\n",
      "\n",
      "Viewer.display(scene)"
     ],
     "language": "python",
     "metadata": {
      "ExecuteTime": {
       "end_time": "2025-10-06T15:19:40.326169Z",
       "start_time": "2025-10-06T15:19:40.051830Z"
      }
     },
     "outputs": [],
     "prompt_number": 11
    },
    {
     "cell_type": "code",
     "collapsed": false,
     "input": [
      "points(g, g.parent(32))"
     ],
     "language": "python",
     "metadata": {
      "ExecuteTime": {
       "end_time": "2025-10-06T15:19:40.344455Z",
       "start_time": "2025-10-06T15:19:40.342170Z"
      }
     },
     "outputs": [],
     "prompt_number": 12
    },
    {
     "cell_type": "code",
     "collapsed": false,
     "input": [
      "pf.plot??"
     ],
     "language": "python",
     "metadata": {
      "ExecuteTime": {
       "end_time": "2025-10-06T15:19:40.441854Z",
       "start_time": "2025-10-06T15:19:40.395189Z"
      }
     },
     "outputs": [],
     "prompt_number": 13
    },
    {
     "cell_type": "code",
     "collapsed": false,
     "input": [
      "g.children(g.parent(g.parent(35)))"
     ],
     "language": "python",
     "metadata": {
      "ExecuteTime": {
       "end_time": "2025-10-06T15:19:40.450193Z",
       "start_time": "2025-10-06T15:19:40.446698Z"
      }
     },
     "outputs": [],
     "prompt_number": 14
    },
    {
     "cell_type": "code",
     "collapsed": false,
     "input": "pf.plot(scale=1)",
     "language": "python",
     "metadata": {
      "ExecuteTime": {
       "end_time": "2025-10-06T15:19:40.510021Z",
       "start_time": "2025-10-06T15:19:40.501167Z"
      }
     },
     "outputs": [],
     "prompt_number": 15
    }
   ],
   "metadata": {}
  }
 ]
}
